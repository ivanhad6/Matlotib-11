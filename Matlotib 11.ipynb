{
 "cells": [
  {
   "cell_type": "markdown",
   "id": "15389387",
   "metadata": {},
   "source": [
    "# Animasi pada Matplotlib"
   ]
  },
  {
   "cell_type": "code",
   "execution_count": 1,
   "id": "e9db5580",
   "metadata": {},
   "outputs": [
    {
     "name": "stdout",
     "output_type": "stream",
     "text": [
      "3.4.3\n",
      "1.20.3\n"
     ]
    }
   ],
   "source": [
    "import matplotlib\n",
    "import matplotlib.pyplot as plt\n",
    "from matplotlib.animation import FuncAnimation\n",
    "from IPython import display\n",
    "import numpy as np\n",
    "\n",
    "print(matplotlib.__version__)\n",
    "print(np.__version__)\n",
    "     "
   ]
  },
  {
   "cell_type": "markdown",
   "id": "033c1a70",
   "metadata": {},
   "source": [
    "# Review Figure"
   ]
  },
  {
   "cell_type": "code",
   "execution_count": 2,
   "id": "9d855190",
   "metadata": {},
   "outputs": [
    {
     "name": "stdout",
     "output_type": "stream",
     "text": [
      "[<matplotlib.lines.Line2D object at 0x000001F9DA5586D0>]\n"
     ]
    },
    {
     "data": {
      "image/png": "[encoded data removed]",
      "text/plain": [
       "<Figure size 432x288 with 1 Axes>"
      ]
     },
     "metadata": {
      "needs_background": "light"
     },
     "output_type": "display_data"
    }
   ],
   "source": [
    "fig = plt.figure()\n",
    "\n",
    "plt.xlim((0,4))  #untuk menentukan batas bawah dan batas atas sumbu x \n",
    "plt.ylim((-2,2)) #untuk menentukan batas bawah dan batas atas sumbu y\n",
    "\n",
    "print(plt.plot([])) #berisi sekumpulan data kosong"
   ]
  },
  {
   "cell_type": "markdown",
   "id": "788643b4",
   "metadata": {},
   "source": [
    "# Animasi Pada Matlotib"
   ]
  },
  {
   "cell_type": "code",
   "execution_count": null,
   "id": "4489f538",
   "metadata": {},
   "outputs": [],
   "source": [
    "fig = plt.figure()\n",
    "plt.xlim((0,4))  #untuk menentukan batas bawah dan batas atas sumbu x \n",
    "plt.ylim((-2,2)) #untuk menentukan batas bawah dan batas atas sumbu y\n",
    "\n",
    "line = plt.plot([])[0] \n",
    "\n",
    "def animate(i):\n",
    "    x = np.linspace(0,4,1000) #akan terbentuk sederet bilangan dengan bilangan terbesarnya 4 dan terkecilnya 0 sejumlah 1000 data point\n",
    "    y = np.sin(2 * np.pi * (x - 0.01 * i))\n",
    "    line.set_data(x,y)\n",
    "    return line,\n",
    "\n",
    "\n",
    "anim = FuncAnimation(fig, animate, frames=200, interval=20) #untuk mengatur jumlah frame dan interval yang akan digunakan untuk animasi kita\n",
    "                                                            #makin besar nilai framesnya, maka akan makin halus hasil animasinya\n",
    "                                                            #makin kecil nilai intervalnya, maka hasil animasi akan berjalan dengan makin cepat\n",
    "video = anim.to_html5_video() #mengkonversikan hasil animasi ke dalam format html5 video\n",
    "html = display.HTML(video) #menampilkan hasil konversi hasil animasi tadi ke web browser kita\n",
    "display.display(html) #hasil animasi baru akan tampil di jupyter notebook kita setelah fungsi ini\n",
    "\n",
    "plt.close() #agar tampilan statik plottingnya tidak muncul, sehingga yang muncul hanya objek animasinya saja"
   ]
  }
 ],
 "metadata": {
  "kernelspec": {
   "display_name": "Python 3 (ipykernel)",
   "language": "python",
   "name": "python3"
  },
  "language_info": {
   "codemirror_mode": {
    "name": "ipython",
    "version": 3
   },
   "file_extension": ".py",
   "mimetype": "text/x-python",
   "name": "python",
   "nbconvert_exporter": "python",
   "pygments_lexer": "ipython3",
   "version": "3.9.7"
  }
 },
 "nbformat": 4,
 "nbformat_minor": 5
}
